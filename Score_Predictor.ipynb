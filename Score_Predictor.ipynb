{
  "nbformat": 4,
  "nbformat_minor": 0,
  "metadata": {
    "colab": {
      "name": "Score Predictor.ipynb",
      "provenance": [],
      "authorship_tag": "ABX9TyPd+nKXfIUHBTuqWm8nljnB",
      "include_colab_link": true
    },
    "kernelspec": {
      "name": "python3",
      "display_name": "Python 3"
    },
    "language_info": {
      "name": "python"
    }
  },
  "cells": [
    {
      "cell_type": "markdown",
      "metadata": {
        "id": "view-in-github",
        "colab_type": "text"
      },
      "source": [
        "<a href=\"https://colab.research.google.com/github/U-Adithyan/Arduino-RC_Car/blob/main/Score_Predictor.ipynb\" target=\"_parent\"><img src=\"https://colab.research.google.com/assets/colab-badge.svg\" alt=\"Open In Colab\"/></a>"
      ]
    },
    {
      "cell_type": "code",
      "metadata": {
        "id": "Jx3wL4sRhnAJ"
      },
      "source": [
        "from sklearn.svm import SVC\n",
        "import pandas as pd"
      ],
      "execution_count": null,
      "outputs": []
    },
    {
      "cell_type": "code",
      "metadata": {
        "id": "4AO2aa1DDOAj"
      },
      "source": [
        "#SRH\n",
        "data=pd.read_csv(\"/content/SRH.csv\")\n",
        "score=data[['Input']]\n",
        "total=data[['Total']]"
      ],
      "execution_count": null,
      "outputs": []
    },
    {
      "cell_type": "code",
      "metadata": {
        "id": "B4wEJ-KJDG9f"
      },
      "source": [
        "#RR\n",
        "data=pd.read_csv(\"/content/RR.csv\")\n",
        "score=data[['Input']]\n",
        "total=data[['Total']]"
      ],
      "execution_count": null,
      "outputs": []
    },
    {
      "cell_type": "code",
      "metadata": {
        "id": "p2ICH84JDC8l"
      },
      "source": [
        "#RCB\n",
        "data=pd.read_csv(\"/content/RCB.csv\")\n",
        "score=data[['Input']]\n",
        "total=data[['Total']]"
      ],
      "execution_count": null,
      "outputs": []
    },
    {
      "cell_type": "code",
      "metadata": {
        "id": "V2YDD0ouC5sA"
      },
      "source": [
        "#PBKS\n",
        "data=pd.read_csv(\"/content/PBKS.csv\")\n",
        "score=data[['Input']]\n",
        "total=data[['Total']]"
      ],
      "execution_count": null,
      "outputs": []
    },
    {
      "cell_type": "code",
      "metadata": {
        "id": "pw9UGw5YC3RL"
      },
      "source": [
        "#MI\n",
        "data=pd.read_csv(\"/content/MI.csv\")\n",
        "score=data[['Input']]\n",
        "total=data[['Total']]"
      ],
      "execution_count": null,
      "outputs": []
    },
    {
      "cell_type": "code",
      "metadata": {
        "id": "rrmEhZtCC1QF"
      },
      "source": [
        "#KKR\n",
        "data=pd.read_csv(\"/content/KKR.csv\")\n",
        "score=data[['Input']]\n",
        "total=data[['Total']]"
      ],
      "execution_count": null,
      "outputs": []
    },
    {
      "cell_type": "code",
      "metadata": {
        "id": "rR3esFtYCzdm"
      },
      "source": [
        "#DC\n",
        "data=pd.read_csv(\"/content/DC.csv\")\n",
        "score=data[['Input']]\n",
        "total=data[['Total']]"
      ],
      "execution_count": null,
      "outputs": []
    },
    {
      "cell_type": "code",
      "metadata": {
        "id": "f1H0nKIAqwSo"
      },
      "source": [
        "#CSK\n",
        "data=pd.read_csv(\"/content/CSK.csv\")\n",
        "score=data[['Input']]\n",
        "total=data[['Total']]"
      ],
      "execution_count": null,
      "outputs": []
    },
    {
      "cell_type": "code",
      "metadata": {
        "id": "aALjIP17qWTK"
      },
      "source": [
        "ML=SVC()\n",
        "ML=ML.fit(score,total)\n",
        "result=ML.predict([[50]])\n",
        "print(result)"
      ],
      "execution_count": null,
      "outputs": []
    }
  ]
}